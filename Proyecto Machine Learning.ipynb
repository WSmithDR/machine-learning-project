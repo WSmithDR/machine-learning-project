{
 "cells": [
  {
   "cell_type": "markdown",
   "metadata": {
    "id": "jV2B9aSwgGtI"
   },
   "source": [
    "#Proyecto Machine Learning\n",
    "\n",
    "## Grupo Zeta:\n",
    "\n",
    "- 1. Cindy Cunalata\n",
    "- 2. Viviana Huachizaca\n",
    "- 3. Wagner Dueñas"
   ]
  },
  {
   "cell_type": "markdown",
   "metadata": {
    "id": "nSG4CdNnhxHO"
   },
   "source": [
    "# Entegabre 1"
   ]
  },
  {
   "cell_type": "markdown",
   "metadata": {
    "id": "-DkCsPQKh3XS"
   },
   "source": [
    "## Revisión preliminar de los datos:\n",
    "Identifique el número de características, sus tipos de datos:"
   ]
  },
  {
   "cell_type": "code",
   "execution_count": 7,
   "metadata": {
    "executionInfo": {
     "elapsed": 4135,
     "status": "ok",
     "timestamp": 1744470979717,
     "user": {
      "displayName": "Viviana Huachizaca",
      "userId": "04497194753825987340"
     },
     "user_tz": 300
    },
    "id": "b2Trc_7XkpQK"
   },
   "outputs": [],
   "source": [
    "import pandas as pd\n",
    "import numpy as np\n",
    "import matplotlib.pyplot as plt\n",
    "import seaborn as sns"
   ]
  },
  {
   "cell_type": "code",
   "execution_count": 8,
   "metadata": {
    "colab": {
     "base_uri": "https://localhost:8080/",
     "height": 261
    },
    "executionInfo": {
     "elapsed": 279,
     "status": "ok",
     "timestamp": 1744471013761,
     "user": {
      "displayName": "Viviana Huachizaca",
      "userId": "04497194753825987340"
     },
     "user_tz": 300
    },
    "id": "6H0vaZ2ih2qK",
    "outputId": "525841ae-030e-4bd4-fb4c-8b4602e97788"
   },
   "outputs": [
    {
     "data": {
      "text/html": [
       "<div>\n",
       "<style scoped>\n",
       "    .dataframe tbody tr th:only-of-type {\n",
       "        vertical-align: middle;\n",
       "    }\n",
       "\n",
       "    .dataframe tbody tr th {\n",
       "        vertical-align: top;\n",
       "    }\n",
       "\n",
       "    .dataframe thead th {\n",
       "        text-align: right;\n",
       "    }\n",
       "</style>\n",
       "<table border=\"1\" class=\"dataframe\">\n",
       "  <thead>\n",
       "    <tr style=\"text-align: right;\">\n",
       "      <th></th>\n",
       "      <th>index</th>\n",
       "      <th>marca</th>\n",
       "      <th>modelo</th>\n",
       "      <th>color</th>\n",
       "      <th>anio_registro</th>\n",
       "      <th>tipo_vehiculo</th>\n",
       "      <th>millas_recorridas</th>\n",
       "      <th>tamanio_motor</th>\n",
       "      <th>transmision</th>\n",
       "      <th>tipo_combustible</th>\n",
       "      <th>precio_vehiculo</th>\n",
       "      <th>num_asientos</th>\n",
       "      <th>num_puertas</th>\n",
       "      <th>problema_averia</th>\n",
       "      <th>id_problema_averia</th>\n",
       "      <th>fecha_averia</th>\n",
       "      <th>complejidad_reparacion</th>\n",
       "      <th>costo_reparacion</th>\n",
       "      <th>horas_reparacion</th>\n",
       "      <th>fecha_reparacion</th>\n",
       "    </tr>\n",
       "  </thead>\n",
       "  <tbody>\n",
       "    <tr>\n",
       "      <th>0</th>\n",
       "      <td>0</td>\n",
       "      <td>Volkswagen</td>\n",
       "      <td>Passat</td>\n",
       "      <td>Blue</td>\n",
       "      <td>2015.0</td>\n",
       "      <td>Saloon</td>\n",
       "      <td>37723.0</td>\n",
       "      <td>2.0L</td>\n",
       "      <td>Automatic</td>\n",
       "      <td>Diesel</td>\n",
       "      <td>12690.0</td>\n",
       "      <td>5.0</td>\n",
       "      <td>4.0</td>\n",
       "      <td>Flat Tyres</td>\n",
       "      <td>0</td>\n",
       "      <td>2018-04-03</td>\n",
       "      <td>1</td>\n",
       "      <td>23.807</td>\n",
       "      <td>1.0</td>\n",
       "      <td>2018-04-03</td>\n",
       "    </tr>\n",
       "    <tr>\n",
       "      <th>1</th>\n",
       "      <td>1</td>\n",
       "      <td>Jaguar</td>\n",
       "      <td>XF</td>\n",
       "      <td>White</td>\n",
       "      <td>2014.0</td>\n",
       "      <td>Saloon</td>\n",
       "      <td>78000.0</td>\n",
       "      <td>2.2L</td>\n",
       "      <td>Automatic</td>\n",
       "      <td>Diesel</td>\n",
       "      <td>13490.0</td>\n",
       "      <td>5.0</td>\n",
       "      <td>4.0</td>\n",
       "      <td>Steering Wheel Shaking</td>\n",
       "      <td>0</td>\n",
       "      <td>2018-05-14</td>\n",
       "      <td>3</td>\n",
       "      <td>73.490</td>\n",
       "      <td>3.0</td>\n",
       "      <td>2018-05-14</td>\n",
       "    </tr>\n",
       "    <tr>\n",
       "      <th>2</th>\n",
       "      <td>2</td>\n",
       "      <td>Volkswagen</td>\n",
       "      <td>Polo</td>\n",
       "      <td>Orange</td>\n",
       "      <td>2010.0</td>\n",
       "      <td>Hatchback</td>\n",
       "      <td>44936.0</td>\n",
       "      <td>1.4L</td>\n",
       "      <td>Automatic</td>\n",
       "      <td>Petrol</td>\n",
       "      <td>NaN</td>\n",
       "      <td>5.0</td>\n",
       "      <td>5.0</td>\n",
       "      <td>Alternator Failing</td>\n",
       "      <td>0</td>\n",
       "      <td>2018-08-16</td>\n",
       "      <td>1</td>\n",
       "      <td>160.000</td>\n",
       "      <td>2.0</td>\n",
       "      <td>2018-08-16</td>\n",
       "    </tr>\n",
       "    <tr>\n",
       "      <th>3</th>\n",
       "      <td>3</td>\n",
       "      <td>Audi</td>\n",
       "      <td>S5</td>\n",
       "      <td>Black</td>\n",
       "      <td>2014.0</td>\n",
       "      <td>Coupe</td>\n",
       "      <td>29000.0</td>\n",
       "      <td>3.0L</td>\n",
       "      <td>Automatic</td>\n",
       "      <td>Petrol</td>\n",
       "      <td>22990.0</td>\n",
       "      <td>4.0</td>\n",
       "      <td>3.0</td>\n",
       "      <td>Steering Wheel Shaking</td>\n",
       "      <td>0</td>\n",
       "      <td>2018-07-24</td>\n",
       "      <td>1</td>\n",
       "      <td>42.990</td>\n",
       "      <td>1.0</td>\n",
       "      <td>2018-07-24</td>\n",
       "    </tr>\n",
       "    <tr>\n",
       "      <th>4</th>\n",
       "      <td>4</td>\n",
       "      <td>Toyota</td>\n",
       "      <td>Yaris</td>\n",
       "      <td>Black</td>\n",
       "      <td>2016.0</td>\n",
       "      <td>Hatchback</td>\n",
       "      <td>18037.0</td>\n",
       "      <td>1.33L</td>\n",
       "      <td>Manual</td>\n",
       "      <td>Petrol</td>\n",
       "      <td>9293.0</td>\n",
       "      <td>5.0</td>\n",
       "      <td>5.0</td>\n",
       "      <td>Electrical Issue</td>\n",
       "      <td>2</td>\n",
       "      <td>2018-05-04</td>\n",
       "      <td>1</td>\n",
       "      <td>28.586</td>\n",
       "      <td>0.5</td>\n",
       "      <td>2018-05-04</td>\n",
       "    </tr>\n",
       "  </tbody>\n",
       "</table>\n",
       "</div>"
      ],
      "text/plain": [
       "   index       marca  modelo   color  anio_registro tipo_vehiculo  \\\n",
       "0      0  Volkswagen  Passat    Blue         2015.0        Saloon   \n",
       "1      1      Jaguar      XF   White         2014.0        Saloon   \n",
       "2      2  Volkswagen    Polo  Orange         2010.0     Hatchback   \n",
       "3      3        Audi      S5   Black         2014.0         Coupe   \n",
       "4      4      Toyota   Yaris   Black         2016.0     Hatchback   \n",
       "\n",
       "   millas_recorridas tamanio_motor transmision tipo_combustible  \\\n",
       "0            37723.0          2.0L   Automatic           Diesel   \n",
       "1            78000.0          2.2L   Automatic           Diesel   \n",
       "2            44936.0          1.4L   Automatic           Petrol   \n",
       "3            29000.0          3.0L   Automatic           Petrol   \n",
       "4            18037.0         1.33L      Manual           Petrol   \n",
       "\n",
       "   precio_vehiculo  num_asientos  num_puertas         problema_averia  \\\n",
       "0          12690.0           5.0          4.0              Flat Tyres   \n",
       "1          13490.0           5.0          4.0  Steering Wheel Shaking   \n",
       "2              NaN           5.0          5.0      Alternator Failing   \n",
       "3          22990.0           4.0          3.0  Steering Wheel Shaking   \n",
       "4           9293.0           5.0          5.0        Electrical Issue   \n",
       "\n",
       "   id_problema_averia fecha_averia  complejidad_reparacion  costo_reparacion  \\\n",
       "0                   0   2018-04-03                       1            23.807   \n",
       "1                   0   2018-05-14                       3            73.490   \n",
       "2                   0   2018-08-16                       1           160.000   \n",
       "3                   0   2018-07-24                       1            42.990   \n",
       "4                   2   2018-05-04                       1            28.586   \n",
       "\n",
       "   horas_reparacion fecha_reparacion  \n",
       "0               1.0       2018-04-03  \n",
       "1               3.0       2018-05-14  \n",
       "2               2.0       2018-08-16  \n",
       "3               1.0       2018-07-24  \n",
       "4               0.5       2018-05-04  "
      ]
     },
     "execution_count": 8,
     "metadata": {},
     "output_type": "execute_result"
    }
   ],
   "source": [
    "df_test = pd.read_csv('vehiculos_test.csv')\n",
    "df_test.head()"
   ]
  },
  {
   "cell_type": "code",
   "execution_count": 9,
   "metadata": {
    "colab": {
     "base_uri": "https://localhost:8080/",
     "height": 261
    },
    "executionInfo": {
     "elapsed": 999,
     "status": "ok",
     "timestamp": 1744471031276,
     "user": {
      "displayName": "Viviana Huachizaca",
      "userId": "04497194753825987340"
     },
     "user_tz": 300
    },
    "id": "F3oIBPwBg8Z6",
    "outputId": "0623f6ec-4e2c-47aa-9db7-0866055e2456"
   },
   "outputs": [
    {
     "data": {
      "text/html": [
       "<div>\n",
       "<style scoped>\n",
       "    .dataframe tbody tr th:only-of-type {\n",
       "        vertical-align: middle;\n",
       "    }\n",
       "\n",
       "    .dataframe tbody tr th {\n",
       "        vertical-align: top;\n",
       "    }\n",
       "\n",
       "    .dataframe thead th {\n",
       "        text-align: right;\n",
       "    }\n",
       "</style>\n",
       "<table border=\"1\" class=\"dataframe\">\n",
       "  <thead>\n",
       "    <tr style=\"text-align: right;\">\n",
       "      <th></th>\n",
       "      <th>marca</th>\n",
       "      <th>modelo</th>\n",
       "      <th>color</th>\n",
       "      <th>anio_registro</th>\n",
       "      <th>tipo_vehiculo</th>\n",
       "      <th>millas_recorridas</th>\n",
       "      <th>tamanio_motor</th>\n",
       "      <th>transmision</th>\n",
       "      <th>tipo_combustible</th>\n",
       "      <th>precio_vehiculo</th>\n",
       "      <th>num_asientos</th>\n",
       "      <th>num_puertas</th>\n",
       "      <th>problema_averia</th>\n",
       "      <th>id_problema_averia</th>\n",
       "      <th>fecha_averia</th>\n",
       "      <th>complejidad_reparacion</th>\n",
       "      <th>costo_reparacion</th>\n",
       "      <th>horas_reparacion</th>\n",
       "      <th>fecha_reparacion</th>\n",
       "      <th>fraude</th>\n",
       "    </tr>\n",
       "  </thead>\n",
       "  <tbody>\n",
       "    <tr>\n",
       "      <th>0</th>\n",
       "      <td>Jeep</td>\n",
       "      <td>Renegade</td>\n",
       "      <td>Black</td>\n",
       "      <td>2018.0</td>\n",
       "      <td>SUV</td>\n",
       "      <td>17.0</td>\n",
       "      <td>1.4L</td>\n",
       "      <td>Manual</td>\n",
       "      <td>Petrol</td>\n",
       "      <td>16000.0</td>\n",
       "      <td>5.0</td>\n",
       "      <td>5.0</td>\n",
       "      <td>Electrical Issue</td>\n",
       "      <td>5</td>\n",
       "      <td>2018-06-07</td>\n",
       "      <td>1</td>\n",
       "      <td>76.0000</td>\n",
       "      <td>3.0</td>\n",
       "      <td>2018-06-07</td>\n",
       "      <td>0</td>\n",
       "    </tr>\n",
       "    <tr>\n",
       "      <th>1</th>\n",
       "      <td>Vauxhall</td>\n",
       "      <td>Insignia</td>\n",
       "      <td>Grey</td>\n",
       "      <td>2011.0</td>\n",
       "      <td>Hatchback</td>\n",
       "      <td>93000.0</td>\n",
       "      <td>NaN</td>\n",
       "      <td>Manual</td>\n",
       "      <td>Petrol</td>\n",
       "      <td>3995.0</td>\n",
       "      <td>5.0</td>\n",
       "      <td>5.0</td>\n",
       "      <td>Excessive Emissions</td>\n",
       "      <td>0</td>\n",
       "      <td>2018-08-09</td>\n",
       "      <td>1</td>\n",
       "      <td>23.5955</td>\n",
       "      <td>1.0</td>\n",
       "      <td>2018-08-09</td>\n",
       "      <td>0</td>\n",
       "    </tr>\n",
       "    <tr>\n",
       "      <th>2</th>\n",
       "      <td>Mercedes-Benz</td>\n",
       "      <td>GLC Class</td>\n",
       "      <td>White</td>\n",
       "      <td>2019.0</td>\n",
       "      <td>SUV</td>\n",
       "      <td>6879.0</td>\n",
       "      <td>2.0L</td>\n",
       "      <td>Automatic</td>\n",
       "      <td>Diesel</td>\n",
       "      <td>31498.0</td>\n",
       "      <td>5.0</td>\n",
       "      <td>5.0</td>\n",
       "      <td>Windscreen Crack</td>\n",
       "      <td>0</td>\n",
       "      <td>2021-06-17</td>\n",
       "      <td>1</td>\n",
       "      <td>38.8988</td>\n",
       "      <td>1.0</td>\n",
       "      <td>2021-06-17</td>\n",
       "      <td>0</td>\n",
       "    </tr>\n",
       "    <tr>\n",
       "      <th>3</th>\n",
       "      <td>Renault</td>\n",
       "      <td>NaN</td>\n",
       "      <td>NaN</td>\n",
       "      <td>2014.0</td>\n",
       "      <td>Hatchback</td>\n",
       "      <td>20669.0</td>\n",
       "      <td>1.2L</td>\n",
       "      <td>Manual</td>\n",
       "      <td>Petrol</td>\n",
       "      <td>6950.0</td>\n",
       "      <td>5.0</td>\n",
       "      <td>5.0</td>\n",
       "      <td>Brake Pads Worn</td>\n",
       "      <td>0</td>\n",
       "      <td>2018-04-23</td>\n",
       "      <td>1</td>\n",
       "      <td>43.4750</td>\n",
       "      <td>2.0</td>\n",
       "      <td>2018-04-23</td>\n",
       "      <td>0</td>\n",
       "    </tr>\n",
       "    <tr>\n",
       "      <th>4</th>\n",
       "      <td>Ford</td>\n",
       "      <td>C-Max</td>\n",
       "      <td>NaN</td>\n",
       "      <td>2007.0</td>\n",
       "      <td>MPV</td>\n",
       "      <td>84786.0</td>\n",
       "      <td>1.6L</td>\n",
       "      <td>Manual</td>\n",
       "      <td>Petrol</td>\n",
       "      <td>NaN</td>\n",
       "      <td>5.0</td>\n",
       "      <td>5.0</td>\n",
       "      <td>Tyre Alignment</td>\n",
       "      <td>0</td>\n",
       "      <td>2018-05-20</td>\n",
       "      <td>1</td>\n",
       "      <td>10.2600</td>\n",
       "      <td>0.5</td>\n",
       "      <td>2018-05-20</td>\n",
       "      <td>0</td>\n",
       "    </tr>\n",
       "  </tbody>\n",
       "</table>\n",
       "</div>"
      ],
      "text/plain": [
       "           marca     modelo  color  anio_registro tipo_vehiculo  \\\n",
       "0           Jeep   Renegade  Black         2018.0           SUV   \n",
       "1       Vauxhall   Insignia   Grey         2011.0     Hatchback   \n",
       "2  Mercedes-Benz  GLC Class  White         2019.0           SUV   \n",
       "3        Renault        NaN    NaN         2014.0     Hatchback   \n",
       "4           Ford      C-Max    NaN         2007.0           MPV   \n",
       "\n",
       "   millas_recorridas tamanio_motor transmision tipo_combustible  \\\n",
       "0               17.0          1.4L      Manual           Petrol   \n",
       "1            93000.0           NaN      Manual           Petrol   \n",
       "2             6879.0          2.0L   Automatic           Diesel   \n",
       "3            20669.0          1.2L      Manual           Petrol   \n",
       "4            84786.0          1.6L      Manual           Petrol   \n",
       "\n",
       "   precio_vehiculo  num_asientos  num_puertas      problema_averia  \\\n",
       "0          16000.0           5.0          5.0     Electrical Issue   \n",
       "1           3995.0           5.0          5.0  Excessive Emissions   \n",
       "2          31498.0           5.0          5.0     Windscreen Crack   \n",
       "3           6950.0           5.0          5.0      Brake Pads Worn   \n",
       "4              NaN           5.0          5.0       Tyre Alignment   \n",
       "\n",
       "   id_problema_averia fecha_averia  complejidad_reparacion  costo_reparacion  \\\n",
       "0                   5   2018-06-07                       1           76.0000   \n",
       "1                   0   2018-08-09                       1           23.5955   \n",
       "2                   0   2021-06-17                       1           38.8988   \n",
       "3                   0   2018-04-23                       1           43.4750   \n",
       "4                   0   2018-05-20                       1           10.2600   \n",
       "\n",
       "   horas_reparacion fecha_reparacion  fraude  \n",
       "0               3.0       2018-06-07       0  \n",
       "1               1.0       2018-08-09       0  \n",
       "2               1.0       2021-06-17       0  \n",
       "3               2.0       2018-04-23       0  \n",
       "4               0.5       2018-05-20       0  "
      ]
     },
     "execution_count": 9,
     "metadata": {},
     "output_type": "execute_result"
    }
   ],
   "source": [
    "df_train = pd.read_csv('vehiculos_train.csv')\n",
    "df_train.head()"
   ]
  },
  {
   "cell_type": "code",
   "execution_count": 10,
   "metadata": {
    "colab": {
     "base_uri": "https://localhost:8080/"
    },
    "executionInfo": {
     "elapsed": 55,
     "status": "ok",
     "timestamp": 1744471121714,
     "user": {
      "displayName": "Viviana Huachizaca",
      "userId": "04497194753825987340"
     },
     "user_tz": 300
    },
    "id": "ZM9mUNl2lIab",
    "outputId": "e94de8c9-2731-4d78-d3a7-79df2c1f7063"
   },
   "outputs": [
    {
     "data": {
      "text/plain": [
       "(21826, 20)"
      ]
     },
     "execution_count": 10,
     "metadata": {},
     "output_type": "execute_result"
    }
   ],
   "source": [
    "df_test.shape"
   ]
  },
  {
   "cell_type": "code",
   "execution_count": 11,
   "metadata": {
    "id": "k3pAMZ6tlOlY"
   },
   "outputs": [
    {
     "data": {
      "text/plain": [
       "(196429, 20)"
      ]
     },
     "execution_count": 11,
     "metadata": {},
     "output_type": "execute_result"
    }
   ],
   "source": [
    "df_train.shape"
   ]
  },
  {
   "cell_type": "code",
   "execution_count": 12,
   "metadata": {
    "colab": {
     "base_uri": "https://localhost:8080/"
    },
    "executionInfo": {
     "elapsed": 209,
     "status": "ok",
     "timestamp": 1744471062625,
     "user": {
      "displayName": "Viviana Huachizaca",
      "userId": "04497194753825987340"
     },
     "user_tz": 300
    },
    "id": "PluJhp65k9lW",
    "outputId": "25b84901-94e2-4a01-d563-453091718a72"
   },
   "outputs": [
    {
     "name": "stdout",
     "output_type": "stream",
     "text": [
      "<class 'pandas.core.frame.DataFrame'>\n",
      "RangeIndex: 196429 entries, 0 to 196428\n",
      "Data columns (total 20 columns):\n",
      " #   Column                  Non-Null Count   Dtype  \n",
      "---  ------                  --------------   -----  \n",
      " 0   marca                   196429 non-null  object \n",
      " 1   modelo                  177768 non-null  object \n",
      " 2   color                   191581 non-null  object \n",
      " 3   anio_registro           191599 non-null  float64\n",
      " 4   tipo_vehiculo           196429 non-null  object \n",
      " 5   millas_recorridas       193664 non-null  float64\n",
      " 6   tamanio_motor           195482 non-null  object \n",
      " 7   transmision             196429 non-null  object \n",
      " 8   tipo_combustible        196429 non-null  object \n",
      " 9   precio_vehiculo         186867 non-null  float64\n",
      " 10  num_asientos            196429 non-null  float64\n",
      " 11  num_puertas             196429 non-null  float64\n",
      " 12  problema_averia         196429 non-null  object \n",
      " 13  id_problema_averia      196429 non-null  int64  \n",
      " 14  fecha_averia            196429 non-null  object \n",
      " 15  complejidad_reparacion  196429 non-null  int64  \n",
      " 16  costo_reparacion        196429 non-null  float64\n",
      " 17  horas_reparacion        196429 non-null  float64\n",
      " 18  fecha_reparacion        196429 non-null  object \n",
      " 19  fraude                  196429 non-null  int64  \n",
      "dtypes: float64(7), int64(3), object(10)\n",
      "memory usage: 30.0+ MB\n"
     ]
    }
   ],
   "source": [
    "df_train.info()"
   ]
  },
  {
   "cell_type": "code",
   "execution_count": 13,
   "metadata": {
    "colab": {
     "base_uri": "https://localhost:8080/"
    },
    "executionInfo": {
     "elapsed": 28,
     "status": "ok",
     "timestamp": 1744471090963,
     "user": {
      "displayName": "Viviana Huachizaca",
      "userId": "04497194753825987340"
     },
     "user_tz": 300
    },
    "id": "c0upbgjylExe",
    "outputId": "aa8efb38-9e68-4683-e2a0-0aa163027141"
   },
   "outputs": [
    {
     "name": "stdout",
     "output_type": "stream",
     "text": [
      "<class 'pandas.core.frame.DataFrame'>\n",
      "RangeIndex: 21826 entries, 0 to 21825\n",
      "Data columns (total 20 columns):\n",
      " #   Column                  Non-Null Count  Dtype  \n",
      "---  ------                  --------------  -----  \n",
      " 0   index                   21826 non-null  int64  \n",
      " 1   marca                   21826 non-null  object \n",
      " 2   modelo                  19719 non-null  object \n",
      " 3   color                   21281 non-null  object \n",
      " 4   anio_registro           21298 non-null  float64\n",
      " 5   tipo_vehiculo           21826 non-null  object \n",
      " 6   millas_recorridas       21510 non-null  float64\n",
      " 7   tamanio_motor           21717 non-null  object \n",
      " 8   transmision             21826 non-null  object \n",
      " 9   tipo_combustible        21826 non-null  object \n",
      " 10  precio_vehiculo         20805 non-null  float64\n",
      " 11  num_asientos            21826 non-null  float64\n",
      " 12  num_puertas             21826 non-null  float64\n",
      " 13  problema_averia         21826 non-null  object \n",
      " 14  id_problema_averia      21826 non-null  int64  \n",
      " 15  fecha_averia            21826 non-null  object \n",
      " 16  complejidad_reparacion  21826 non-null  int64  \n",
      " 17  costo_reparacion        21826 non-null  float64\n",
      " 18  horas_reparacion        21826 non-null  float64\n",
      " 19  fecha_reparacion        21826 non-null  object \n",
      "dtypes: float64(7), int64(3), object(10)\n",
      "memory usage: 3.3+ MB\n"
     ]
    }
   ],
   "source": [
    "df_test.info()"
   ]
  },
  {
   "cell_type": "code",
   "execution_count": 14,
   "metadata": {},
   "outputs": [
    {
     "data": {
      "text/plain": [
       "marca                     0.000000\n",
       "modelo                    9.500125\n",
       "color                     2.468067\n",
       "anio_registro             2.458904\n",
       "tipo_vehiculo             0.000000\n",
       "millas_recorridas         1.407633\n",
       "tamanio_motor             0.482108\n",
       "transmision               0.000000\n",
       "tipo_combustible          0.000000\n",
       "precio_vehiculo           4.867917\n",
       "num_asientos              0.000000\n",
       "num_puertas               0.000000\n",
       "problema_averia           0.000000\n",
       "id_problema_averia        0.000000\n",
       "fecha_averia              0.000000\n",
       "complejidad_reparacion    0.000000\n",
       "costo_reparacion          0.000000\n",
       "horas_reparacion          0.000000\n",
       "fecha_reparacion          0.000000\n",
       "fraude                    0.000000\n",
       "dtype: float64"
      ]
     },
     "execution_count": 14,
     "metadata": {},
     "output_type": "execute_result"
    }
   ],
   "source": [
    "df_train.isnull().sum()/len(df_train)*100"
   ]
  },
  {
   "cell_type": "code",
   "execution_count": 15,
   "metadata": {},
   "outputs": [
    {
     "name": "stdout",
     "output_type": "stream",
     "text": [
      "Missing Values Analysis (Total rows: 196429)\n",
      "modelo                     9.5%\n",
      "precio_vehiculo           4.87%\n",
      "color                     2.47%\n",
      "anio_registro             2.46%\n",
      "millas_recorridas         1.41%\n",
      "tamanio_motor             0.48%\n",
      "marca                      0.0%\n",
      "tipo_vehiculo              0.0%\n",
      "transmision                0.0%\n",
      "tipo_combustible           0.0%\n",
      "num_asientos               0.0%\n",
      "num_puertas                0.0%\n",
      "problema_averia            0.0%\n",
      "id_problema_averia         0.0%\n",
      "fecha_averia               0.0%\n",
      "complejidad_reparacion     0.0%\n",
      "costo_reparacion           0.0%\n",
      "horas_reparacion           0.0%\n",
      "fecha_reparacion           0.0%\n",
      "fraude                     0.0%\n",
      "dtype: object\n"
     ]
    }
   ],
   "source": [
    "# Calculate percentage of missing values in each column\n",
    "missing_percentages = (df_train.isnull().sum() / len(df_train) * 100).round(2)\n",
    "\n",
    "# Sort values in descending order to see columns with most missing values\n",
    "missing_percentages_sorted = missing_percentages.sort_values(ascending=False)\n",
    "\n",
    "# Create a more descriptive output\n",
    "print(f\"Missing Values Analysis (Total rows: {len(df_train)})\")\n",
    "\n",
    "# Show all columns including those with 0% missing values\n",
    "# Add percentage symbol to each value when displaying\n",
    "print(missing_percentages_sorted.apply(lambda x: f\"{x}%\"))"
   ]
  },
  {
   "cell_type": "markdown",
   "metadata": {
    "id": "_p1hDT9uiFaQ"
   },
   "source": [
    "## Análisis Univariado:\n",
    "- Seleccione al menos tres variables y realice un análisis univariable en cada una.\n",
    "- Proporcione visualizaciones (por ejemplo, histogramas, diagramas de caja) para cada variable seleccionada e interprételas."
   ]
  },
  {
   "cell_type": "code",
   "execution_count": null,
   "metadata": {
    "id": "ldSQwYtjidbX"
   },
   "outputs": [],
   "source": []
  },
  {
   "cell_type": "code",
   "execution_count": null,
   "metadata": {
    "id": "Ao3d0We9idfO"
   },
   "outputs": [],
   "source": []
  },
  {
   "cell_type": "markdown",
   "metadata": {
    "id": "GIn7-RVWid0X"
   },
   "source": [
    "## Análisis Multivariado:\n",
    "- Elija al menos dos pares de variables (no considere la variable target) y realice un análisis multivariable para cada par.\n",
    "- Elija al menos dos variables de variables y realice un análisis multivariable entre las variables elegidas y la variable target.\n",
    "- Utilice visualizaciones adecuadas (por ejemplo, diagramas de dispersión, gráficos de barras).\n",
    "- Explique cualquier relación observada entre los pares de variables analizados.\n"
   ]
  },
  {
   "cell_type": "code",
   "execution_count": null,
   "metadata": {
    "id": "g9EpUQ7fivjx"
   },
   "outputs": [],
   "source": []
  },
  {
   "cell_type": "code",
   "execution_count": null,
   "metadata": {
    "id": "NNFzY_u6ivm4"
   },
   "outputs": [],
   "source": []
  },
  {
   "cell_type": "markdown",
   "metadata": {
    "id": "DLJ8a-TiivyE"
   },
   "source": [
    "# Implemente al menos 3 modelos de clasificación e intente superar al baseline compartido.\n",
    "Para los 3 modelos utilice el mismo algoritmo de clasificación (elija uno aprendido en clases) con diferentes configuraciones. Distintas configuraciones pueden incluir distintos valores de hiperparámetros o técnicas de procesamiento de los datos de entrada. Para las distintas configuraciones puede considerar lo siguiente:\n",
    "- Sus datos podrían ser estandarizados/normalizados o no.\n",
    "- Puede definir alguna estrategia para codificar variables categóricas (puede utilizar One-hot-encoding, Target encoding, u otra estrategia).\n",
    "- Identifique valores faltantes y defina una estrategia (de ser necesario) para la imputación de datos.\n",
    "- Analice las variables categóricas y determine si es necesario tratar categorías poco frecuentes (por ejemplo, a veces agrupar categorías raras puede ser útil). Explique sus decisiones en el tratamiento de los datos.\n",
    "- Detecte valores atípicos y defina una estrategia para tratarlos. Considere que eliminar los registros outliers (del set de entrenamiento) no es la única estrategia posible (puede considerar la regla del rango intercuartil, Local Outlier Factor, u otra estrategia). Explique sus decisiones en el tratamiento de los datos.\n",
    "\n"
   ]
  },
  {
   "cell_type": "code",
   "execution_count": null,
   "metadata": {
    "id": "dKQIVgwHjJuA"
   },
   "outputs": [],
   "source": []
  },
  {
   "cell_type": "code",
   "execution_count": null,
   "metadata": {
    "id": "TyoY_azLjJxm"
   },
   "outputs": [],
   "source": []
  },
  {
   "cell_type": "markdown",
   "metadata": {
    "id": "7PkvKS5rjJ8k"
   },
   "source": [
    "# Evalúe y compare todos los modelos.\n",
    "Interprete los resultados y concluya cuál modelo es el mejor. Puede considerar más de una métrica de evaluación para su conclusión.\n"
   ]
  },
  {
   "cell_type": "code",
   "execution_count": null,
   "metadata": {
    "id": "RMNYnPqZkD7e"
   },
   "outputs": [],
   "source": []
  },
  {
   "cell_type": "code",
   "execution_count": null,
   "metadata": {
    "id": "cFBbrWNYkDz7"
   },
   "outputs": [],
   "source": []
  }
 ],
 "metadata": {
  "colab": {
   "provenance": []
  },
  "kernelspec": {
   "display_name": "machine_learning_venv",
   "language": "python",
   "name": "python3"
  },
  "language_info": {
   "codemirror_mode": {
    "name": "ipython",
    "version": 3
   },
   "file_extension": ".py",
   "mimetype": "text/x-python",
   "name": "python",
   "nbconvert_exporter": "python",
   "pygments_lexer": "ipython3",
   "version": "3.12.4"
  }
 },
 "nbformat": 4,
 "nbformat_minor": 0
}
